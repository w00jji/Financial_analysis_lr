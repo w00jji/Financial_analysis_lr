{
 "cells": [
  {
   "cell_type": "code",
   "execution_count": 2,
   "id": "1231a344-8929-44eb-b80d-afc80606106c",
   "metadata": {
    "colab": {
     "base_uri": "https://localhost:8080/",
     "height": 346
    },
    "executionInfo": {
     "elapsed": 330,
     "status": "error",
     "timestamp": 1729653403114,
     "user": {
      "displayName": "김우진",
      "userId": "03388991008972650529"
     },
     "user_tz": -540
    },
    "id": "1231a344-8929-44eb-b80d-afc80606106c",
    "outputId": "224b0eac-0710-437d-dae5-307148db9bd3"
   },
   "outputs": [
    {
     "ename": "ModuleNotFoundError",
     "errorDetails": {
      "actions": [
       {
        "action": "open_url",
        "actionText": "Open Examples",
        "url": "/notebooks/snippets/importing_libraries.ipynb"
       }
      ]
     },
     "evalue": "No module named 'FinanceDataReader'",
     "output_type": "error",
     "traceback": [
      "\u001b[0;31m---------------------------------------------------------------------------\u001b[0m",
      "\u001b[0;31mModuleNotFoundError\u001b[0m                       Traceback (most recent call last)",
      "\u001b[0;32m<ipython-input-2-d3f85dc3df3e>\u001b[0m in \u001b[0;36m<cell line: 1>\u001b[0;34m()\u001b[0m\n\u001b[0;32m----> 1\u001b[0;31m \u001b[0;32mimport\u001b[0m \u001b[0mFinanceDataReader\u001b[0m \u001b[0;32mas\u001b[0m \u001b[0mfdr\u001b[0m\u001b[0;34m\u001b[0m\u001b[0;34m\u001b[0m\u001b[0m\n\u001b[0m\u001b[1;32m      2\u001b[0m \u001b[0;32mimport\u001b[0m \u001b[0mnumpy\u001b[0m \u001b[0;32mas\u001b[0m \u001b[0mnp\u001b[0m\u001b[0;34m\u001b[0m\u001b[0;34m\u001b[0m\u001b[0m\n",
      "\u001b[0;31mModuleNotFoundError\u001b[0m: No module named 'FinanceDataReader'",
      "",
      "\u001b[0;31m---------------------------------------------------------------------------\u001b[0;32m\nNOTE: If your import is failing due to a missing package, you can\nmanually install dependencies using either !pip or !apt.\n\nTo view examples of installing some common dependencies, click the\n\"Open Examples\" button below.\n\u001b[0;31m---------------------------------------------------------------------------\u001b[0m\n"
     ]
    }
   ],
   "source": [
    "import FinanceDataReader as fdr\n",
    "import numpy as np"
   ]
  },
  {
   "cell_type": "code",
   "execution_count": 1,
   "id": "Kve6gF9_X6DF",
   "metadata": {
    "colab": {
     "base_uri": "https://localhost:8080/"
    },
    "executionInfo": {
     "elapsed": 16561,
     "status": "ok",
     "timestamp": 1729653461947,
     "user": {
      "displayName": "김우진",
      "userId": "03388991008972650529"
     },
     "user_tz": -540
    },
    "id": "Kve6gF9_X6DF",
    "outputId": "41bfea07-de1d-4cae-e795-61f4bb7def66"
   },
   "outputs": [
    {
     "name": "stdout",
     "output_type": "stream",
     "text": [
      "Mounted at /content/drive\n"
     ]
    }
   ],
   "source": [
    "from google.colab import drive\n",
    "drive.mount('/content/drive')"
   ]
  },
  {
   "cell_type": "markdown",
   "id": "8c248914-2ce6-4ca1-b62e-3ac59291d586",
   "metadata": {
    "id": "8c248914-2ce6-4ca1-b62e-3ac59291d586"
   },
   "source": [
    "##### 전일변동폭"
   ]
  },
  {
   "cell_type": "code",
   "execution_count": null,
   "id": "5094e857-aa48-4021-b024-f2cef3653e53",
   "metadata": {
    "id": "5094e857-aa48-4021-b024-f2cef3653e53",
    "outputId": "35009a6a-8c49-4854-d847-cacd0497a8c5"
   },
   "outputs": [
    {
     "data": {
      "text/html": [
       "<div>\n",
       "<style scoped>\n",
       "    .dataframe tbody tr th:only-of-type {\n",
       "        vertical-align: middle;\n",
       "    }\n",
       "\n",
       "    .dataframe tbody tr th {\n",
       "        vertical-align: top;\n",
       "    }\n",
       "\n",
       "    .dataframe thead th {\n",
       "        text-align: right;\n",
       "    }\n",
       "</style>\n",
       "<table border=\"1\" class=\"dataframe\">\n",
       "  <thead>\n",
       "    <tr style=\"text-align: right;\">\n",
       "      <th></th>\n",
       "      <th>Open</th>\n",
       "      <th>High</th>\n",
       "      <th>Low</th>\n",
       "      <th>Close</th>\n",
       "      <th>Volume</th>\n",
       "      <th>Change</th>\n",
       "    </tr>\n",
       "    <tr>\n",
       "      <th>Date</th>\n",
       "      <th></th>\n",
       "      <th></th>\n",
       "      <th></th>\n",
       "      <th></th>\n",
       "      <th></th>\n",
       "      <th></th>\n",
       "    </tr>\n",
       "  </thead>\n",
       "  <tbody>\n",
       "    <tr>\n",
       "      <th>2015-10-01</th>\n",
       "      <td>10161</td>\n",
       "      <td>10161</td>\n",
       "      <td>10094</td>\n",
       "      <td>10101</td>\n",
       "      <td>31634</td>\n",
       "      <td>NaN</td>\n",
       "    </tr>\n",
       "    <tr>\n",
       "      <th>2015-10-02</th>\n",
       "      <td>10135</td>\n",
       "      <td>10159</td>\n",
       "      <td>10135</td>\n",
       "      <td>10148</td>\n",
       "      <td>63224</td>\n",
       "      <td>0.004653</td>\n",
       "    </tr>\n",
       "    <tr>\n",
       "      <th>2015-10-05</th>\n",
       "      <td>10255</td>\n",
       "      <td>10265</td>\n",
       "      <td>10210</td>\n",
       "      <td>10231</td>\n",
       "      <td>43154</td>\n",
       "      <td>0.008179</td>\n",
       "    </tr>\n",
       "    <tr>\n",
       "      <th>2015-10-06</th>\n",
       "      <td>10248</td>\n",
       "      <td>10274</td>\n",
       "      <td>10172</td>\n",
       "      <td>10176</td>\n",
       "      <td>42399</td>\n",
       "      <td>-0.005376</td>\n",
       "    </tr>\n",
       "    <tr>\n",
       "      <th>2015-10-07</th>\n",
       "      <td>10094</td>\n",
       "      <td>10094</td>\n",
       "      <td>9947</td>\n",
       "      <td>9949</td>\n",
       "      <td>21324</td>\n",
       "      <td>-0.022307</td>\n",
       "    </tr>\n",
       "    <tr>\n",
       "      <th>...</th>\n",
       "      <td>...</td>\n",
       "      <td>...</td>\n",
       "      <td>...</td>\n",
       "      <td>...</td>\n",
       "      <td>...</td>\n",
       "      <td>...</td>\n",
       "    </tr>\n",
       "    <tr>\n",
       "      <th>2024-10-17</th>\n",
       "      <td>12945</td>\n",
       "      <td>13010</td>\n",
       "      <td>12820</td>\n",
       "      <td>12900</td>\n",
       "      <td>3745163</td>\n",
       "      <td>-0.000775</td>\n",
       "    </tr>\n",
       "    <tr>\n",
       "      <th>2024-10-18</th>\n",
       "      <td>12890</td>\n",
       "      <td>12910</td>\n",
       "      <td>12570</td>\n",
       "      <td>12660</td>\n",
       "      <td>8569730</td>\n",
       "      <td>-0.018605</td>\n",
       "    </tr>\n",
       "    <tr>\n",
       "      <th>2024-10-21</th>\n",
       "      <td>12685</td>\n",
       "      <td>12895</td>\n",
       "      <td>12570</td>\n",
       "      <td>12870</td>\n",
       "      <td>8339814</td>\n",
       "      <td>0.016588</td>\n",
       "    </tr>\n",
       "    <tr>\n",
       "      <th>2024-10-22</th>\n",
       "      <td>12845</td>\n",
       "      <td>12850</td>\n",
       "      <td>12425</td>\n",
       "      <td>12435</td>\n",
       "      <td>9706716</td>\n",
       "      <td>-0.033800</td>\n",
       "    </tr>\n",
       "    <tr>\n",
       "      <th>2024-10-23</th>\n",
       "      <td>12500</td>\n",
       "      <td>12540</td>\n",
       "      <td>12485</td>\n",
       "      <td>12520</td>\n",
       "      <td>424834</td>\n",
       "      <td>0.006836</td>\n",
       "    </tr>\n",
       "  </tbody>\n",
       "</table>\n",
       "<p>2226 rows × 6 columns</p>\n",
       "</div>"
      ],
      "text/plain": [
       "             Open   High    Low  Close   Volume    Change\n",
       "Date                                                     \n",
       "2015-10-01  10161  10161  10094  10101    31634       NaN\n",
       "2015-10-02  10135  10159  10135  10148    63224  0.004653\n",
       "2015-10-05  10255  10265  10210  10231    43154  0.008179\n",
       "2015-10-06  10248  10274  10172  10176    42399 -0.005376\n",
       "2015-10-07  10094  10094   9947   9949    21324 -0.022307\n",
       "...           ...    ...    ...    ...      ...       ...\n",
       "2024-10-17  12945  13010  12820  12900  3745163 -0.000775\n",
       "2024-10-18  12890  12910  12570  12660  8569730 -0.018605\n",
       "2024-10-21  12685  12895  12570  12870  8339814  0.016588\n",
       "2024-10-22  12845  12850  12425  12435  9706716 -0.033800\n",
       "2024-10-23  12500  12540  12485  12520   424834  0.006836\n",
       "\n",
       "[2226 rows x 6 columns]"
      ]
     },
     "execution_count": 2,
     "metadata": {},
     "output_type": "execute_result"
    }
   ],
   "source": [
    "# 변동성 돌파 전략 : 거래일의 현재가가 [시가 + 전일 변동폭*0.5]를 돌파할 때\n",
    "# 매수하고 종가에 매도하는 전략\n",
    "# 전일 변동폭 : 전일 고가 - 전일 저가\n",
    "\n",
    "df = fdr.DataReader('229200') # 코스닥 150\n",
    "df"
   ]
  },
  {
   "cell_type": "code",
   "execution_count": null,
   "id": "b2908fb2-2813-47cb-9800-807e5e0a7140",
   "metadata": {
    "id": "b2908fb2-2813-47cb-9800-807e5e0a7140",
    "outputId": "95e054f9-dde4-4cf5-f9cd-9aa60287dd63"
   },
   "outputs": [
    {
     "data": {
      "text/html": [
       "<div>\n",
       "<style scoped>\n",
       "    .dataframe tbody tr th:only-of-type {\n",
       "        vertical-align: middle;\n",
       "    }\n",
       "\n",
       "    .dataframe tbody tr th {\n",
       "        vertical-align: top;\n",
       "    }\n",
       "\n",
       "    .dataframe thead th {\n",
       "        text-align: right;\n",
       "    }\n",
       "</style>\n",
       "<table border=\"1\" class=\"dataframe\">\n",
       "  <thead>\n",
       "    <tr style=\"text-align: right;\">\n",
       "      <th></th>\n",
       "      <th>Open</th>\n",
       "      <th>High</th>\n",
       "      <th>Low</th>\n",
       "      <th>Close</th>\n",
       "      <th>Volume</th>\n",
       "      <th>Change</th>\n",
       "      <th>변동</th>\n",
       "      <th>전일변동</th>\n",
       "      <th>목표가</th>\n",
       "    </tr>\n",
       "    <tr>\n",
       "      <th>Date</th>\n",
       "      <th></th>\n",
       "      <th></th>\n",
       "      <th></th>\n",
       "      <th></th>\n",
       "      <th></th>\n",
       "      <th></th>\n",
       "      <th></th>\n",
       "      <th></th>\n",
       "      <th></th>\n",
       "    </tr>\n",
       "  </thead>\n",
       "  <tbody>\n",
       "    <tr>\n",
       "      <th>2015-10-01</th>\n",
       "      <td>10161</td>\n",
       "      <td>10161</td>\n",
       "      <td>10094</td>\n",
       "      <td>10101</td>\n",
       "      <td>31634</td>\n",
       "      <td>NaN</td>\n",
       "      <td>67</td>\n",
       "      <td>NaN</td>\n",
       "      <td>NaN</td>\n",
       "    </tr>\n",
       "    <tr>\n",
       "      <th>2015-10-02</th>\n",
       "      <td>10135</td>\n",
       "      <td>10159</td>\n",
       "      <td>10135</td>\n",
       "      <td>10148</td>\n",
       "      <td>63224</td>\n",
       "      <td>0.004653</td>\n",
       "      <td>24</td>\n",
       "      <td>67.0</td>\n",
       "      <td>10168.5</td>\n",
       "    </tr>\n",
       "    <tr>\n",
       "      <th>2015-10-05</th>\n",
       "      <td>10255</td>\n",
       "      <td>10265</td>\n",
       "      <td>10210</td>\n",
       "      <td>10231</td>\n",
       "      <td>43154</td>\n",
       "      <td>0.008179</td>\n",
       "      <td>55</td>\n",
       "      <td>24.0</td>\n",
       "      <td>10267.0</td>\n",
       "    </tr>\n",
       "    <tr>\n",
       "      <th>2015-10-06</th>\n",
       "      <td>10248</td>\n",
       "      <td>10274</td>\n",
       "      <td>10172</td>\n",
       "      <td>10176</td>\n",
       "      <td>42399</td>\n",
       "      <td>-0.005376</td>\n",
       "      <td>102</td>\n",
       "      <td>55.0</td>\n",
       "      <td>10275.5</td>\n",
       "    </tr>\n",
       "    <tr>\n",
       "      <th>2015-10-07</th>\n",
       "      <td>10094</td>\n",
       "      <td>10094</td>\n",
       "      <td>9947</td>\n",
       "      <td>9949</td>\n",
       "      <td>21324</td>\n",
       "      <td>-0.022307</td>\n",
       "      <td>147</td>\n",
       "      <td>102.0</td>\n",
       "      <td>10145.0</td>\n",
       "    </tr>\n",
       "    <tr>\n",
       "      <th>...</th>\n",
       "      <td>...</td>\n",
       "      <td>...</td>\n",
       "      <td>...</td>\n",
       "      <td>...</td>\n",
       "      <td>...</td>\n",
       "      <td>...</td>\n",
       "      <td>...</td>\n",
       "      <td>...</td>\n",
       "      <td>...</td>\n",
       "    </tr>\n",
       "    <tr>\n",
       "      <th>2024-10-17</th>\n",
       "      <td>12945</td>\n",
       "      <td>13010</td>\n",
       "      <td>12820</td>\n",
       "      <td>12900</td>\n",
       "      <td>3745163</td>\n",
       "      <td>-0.000775</td>\n",
       "      <td>190</td>\n",
       "      <td>120.0</td>\n",
       "      <td>13005.0</td>\n",
       "    </tr>\n",
       "    <tr>\n",
       "      <th>2024-10-18</th>\n",
       "      <td>12890</td>\n",
       "      <td>12910</td>\n",
       "      <td>12570</td>\n",
       "      <td>12660</td>\n",
       "      <td>8569730</td>\n",
       "      <td>-0.018605</td>\n",
       "      <td>340</td>\n",
       "      <td>190.0</td>\n",
       "      <td>12985.0</td>\n",
       "    </tr>\n",
       "    <tr>\n",
       "      <th>2024-10-21</th>\n",
       "      <td>12685</td>\n",
       "      <td>12895</td>\n",
       "      <td>12570</td>\n",
       "      <td>12870</td>\n",
       "      <td>8339814</td>\n",
       "      <td>0.016588</td>\n",
       "      <td>325</td>\n",
       "      <td>340.0</td>\n",
       "      <td>12855.0</td>\n",
       "    </tr>\n",
       "    <tr>\n",
       "      <th>2024-10-22</th>\n",
       "      <td>12845</td>\n",
       "      <td>12850</td>\n",
       "      <td>12425</td>\n",
       "      <td>12435</td>\n",
       "      <td>9706716</td>\n",
       "      <td>-0.033800</td>\n",
       "      <td>425</td>\n",
       "      <td>325.0</td>\n",
       "      <td>13007.5</td>\n",
       "    </tr>\n",
       "    <tr>\n",
       "      <th>2024-10-23</th>\n",
       "      <td>12500</td>\n",
       "      <td>12540</td>\n",
       "      <td>12485</td>\n",
       "      <td>12520</td>\n",
       "      <td>424834</td>\n",
       "      <td>0.006836</td>\n",
       "      <td>55</td>\n",
       "      <td>425.0</td>\n",
       "      <td>12712.5</td>\n",
       "    </tr>\n",
       "  </tbody>\n",
       "</table>\n",
       "<p>2226 rows × 9 columns</p>\n",
       "</div>"
      ],
      "text/plain": [
       "             Open   High    Low  Close   Volume    Change   변동   전일변동      목표가\n",
       "Date                                                                          \n",
       "2015-10-01  10161  10161  10094  10101    31634       NaN   67    NaN      NaN\n",
       "2015-10-02  10135  10159  10135  10148    63224  0.004653   24   67.0  10168.5\n",
       "2015-10-05  10255  10265  10210  10231    43154  0.008179   55   24.0  10267.0\n",
       "2015-10-06  10248  10274  10172  10176    42399 -0.005376  102   55.0  10275.5\n",
       "2015-10-07  10094  10094   9947   9949    21324 -0.022307  147  102.0  10145.0\n",
       "...           ...    ...    ...    ...      ...       ...  ...    ...      ...\n",
       "2024-10-17  12945  13010  12820  12900  3745163 -0.000775  190  120.0  13005.0\n",
       "2024-10-18  12890  12910  12570  12660  8569730 -0.018605  340  190.0  12985.0\n",
       "2024-10-21  12685  12895  12570  12870  8339814  0.016588  325  340.0  12855.0\n",
       "2024-10-22  12845  12850  12425  12435  9706716 -0.033800  425  325.0  13007.5\n",
       "2024-10-23  12500  12540  12485  12520   424834  0.006836   55  425.0  12712.5\n",
       "\n",
       "[2226 rows x 9 columns]"
      ]
     },
     "execution_count": 6,
     "metadata": {},
     "output_type": "execute_result"
    }
   ],
   "source": [
    "df['변동'] = df['High'] - df['Low']\n",
    "df['전일변동']=df['변동'].shift(1)\n",
    "df['목표가'] = df['Open'] + df['전일변동'] * 0.5 # 0.5는 볼린져 밴드 느낌\n",
    "df"
   ]
  },
  {
   "cell_type": "code",
   "execution_count": null,
   "id": "47623f45-4a27-4910-9777-9fcf2ba9662e",
   "metadata": {
    "id": "47623f45-4a27-4910-9777-9fcf2ba9662e",
    "outputId": "799f79e6-ef2d-419e-f07a-553f9af9fd07"
   },
   "outputs": [
    {
     "data": {
      "text/html": [
       "<div>\n",
       "<style scoped>\n",
       "    .dataframe tbody tr th:only-of-type {\n",
       "        vertical-align: middle;\n",
       "    }\n",
       "\n",
       "    .dataframe tbody tr th {\n",
       "        vertical-align: top;\n",
       "    }\n",
       "\n",
       "    .dataframe thead th {\n",
       "        text-align: right;\n",
       "    }\n",
       "</style>\n",
       "<table border=\"1\" class=\"dataframe\">\n",
       "  <thead>\n",
       "    <tr style=\"text-align: right;\">\n",
       "      <th></th>\n",
       "      <th>Open</th>\n",
       "      <th>High</th>\n",
       "      <th>Low</th>\n",
       "      <th>Close</th>\n",
       "      <th>Volume</th>\n",
       "      <th>Change</th>\n",
       "      <th>변동</th>\n",
       "      <th>전일변동</th>\n",
       "      <th>목표가</th>\n",
       "      <th>수익률</th>\n",
       "      <th>누적수익률</th>\n",
       "    </tr>\n",
       "    <tr>\n",
       "      <th>Date</th>\n",
       "      <th></th>\n",
       "      <th></th>\n",
       "      <th></th>\n",
       "      <th></th>\n",
       "      <th></th>\n",
       "      <th></th>\n",
       "      <th></th>\n",
       "      <th></th>\n",
       "      <th></th>\n",
       "      <th></th>\n",
       "      <th></th>\n",
       "    </tr>\n",
       "  </thead>\n",
       "  <tbody>\n",
       "    <tr>\n",
       "      <th>2015-10-01</th>\n",
       "      <td>10161</td>\n",
       "      <td>10161</td>\n",
       "      <td>10094</td>\n",
       "      <td>10101</td>\n",
       "      <td>31634</td>\n",
       "      <td>NaN</td>\n",
       "      <td>67</td>\n",
       "      <td>NaN</td>\n",
       "      <td>NaN</td>\n",
       "      <td>1.000000</td>\n",
       "      <td>1.000000</td>\n",
       "    </tr>\n",
       "    <tr>\n",
       "      <th>2015-10-02</th>\n",
       "      <td>10135</td>\n",
       "      <td>10159</td>\n",
       "      <td>10135</td>\n",
       "      <td>10148</td>\n",
       "      <td>63224</td>\n",
       "      <td>0.004653</td>\n",
       "      <td>24</td>\n",
       "      <td>67.0</td>\n",
       "      <td>10168.5</td>\n",
       "      <td>1.000000</td>\n",
       "      <td>1.000000</td>\n",
       "    </tr>\n",
       "    <tr>\n",
       "      <th>2015-10-05</th>\n",
       "      <td>10255</td>\n",
       "      <td>10265</td>\n",
       "      <td>10210</td>\n",
       "      <td>10231</td>\n",
       "      <td>43154</td>\n",
       "      <td>0.008179</td>\n",
       "      <td>55</td>\n",
       "      <td>24.0</td>\n",
       "      <td>10267.0</td>\n",
       "      <td>1.000000</td>\n",
       "      <td>1.000000</td>\n",
       "    </tr>\n",
       "    <tr>\n",
       "      <th>2015-10-06</th>\n",
       "      <td>10248</td>\n",
       "      <td>10274</td>\n",
       "      <td>10172</td>\n",
       "      <td>10176</td>\n",
       "      <td>42399</td>\n",
       "      <td>-0.005376</td>\n",
       "      <td>102</td>\n",
       "      <td>55.0</td>\n",
       "      <td>10275.5</td>\n",
       "      <td>1.000000</td>\n",
       "      <td>1.000000</td>\n",
       "    </tr>\n",
       "    <tr>\n",
       "      <th>2015-10-07</th>\n",
       "      <td>10094</td>\n",
       "      <td>10094</td>\n",
       "      <td>9947</td>\n",
       "      <td>9949</td>\n",
       "      <td>21324</td>\n",
       "      <td>-0.022307</td>\n",
       "      <td>147</td>\n",
       "      <td>102.0</td>\n",
       "      <td>10145.0</td>\n",
       "      <td>1.000000</td>\n",
       "      <td>1.000000</td>\n",
       "    </tr>\n",
       "    <tr>\n",
       "      <th>...</th>\n",
       "      <td>...</td>\n",
       "      <td>...</td>\n",
       "      <td>...</td>\n",
       "      <td>...</td>\n",
       "      <td>...</td>\n",
       "      <td>...</td>\n",
       "      <td>...</td>\n",
       "      <td>...</td>\n",
       "      <td>...</td>\n",
       "      <td>...</td>\n",
       "      <td>...</td>\n",
       "    </tr>\n",
       "    <tr>\n",
       "      <th>2024-10-17</th>\n",
       "      <td>12945</td>\n",
       "      <td>13010</td>\n",
       "      <td>12820</td>\n",
       "      <td>12900</td>\n",
       "      <td>3745163</td>\n",
       "      <td>-0.000775</td>\n",
       "      <td>190</td>\n",
       "      <td>120.0</td>\n",
       "      <td>13005.0</td>\n",
       "      <td>0.991926</td>\n",
       "      <td>2.742331</td>\n",
       "    </tr>\n",
       "    <tr>\n",
       "      <th>2024-10-18</th>\n",
       "      <td>12890</td>\n",
       "      <td>12910</td>\n",
       "      <td>12570</td>\n",
       "      <td>12660</td>\n",
       "      <td>8569730</td>\n",
       "      <td>-0.018605</td>\n",
       "      <td>340</td>\n",
       "      <td>190.0</td>\n",
       "      <td>12985.0</td>\n",
       "      <td>1.000000</td>\n",
       "      <td>2.742331</td>\n",
       "    </tr>\n",
       "    <tr>\n",
       "      <th>2024-10-21</th>\n",
       "      <td>12685</td>\n",
       "      <td>12895</td>\n",
       "      <td>12570</td>\n",
       "      <td>12870</td>\n",
       "      <td>8339814</td>\n",
       "      <td>0.016588</td>\n",
       "      <td>325</td>\n",
       "      <td>340.0</td>\n",
       "      <td>12855.0</td>\n",
       "      <td>1.001167</td>\n",
       "      <td>2.745531</td>\n",
       "    </tr>\n",
       "    <tr>\n",
       "      <th>2024-10-22</th>\n",
       "      <td>12845</td>\n",
       "      <td>12850</td>\n",
       "      <td>12425</td>\n",
       "      <td>12435</td>\n",
       "      <td>9706716</td>\n",
       "      <td>-0.033800</td>\n",
       "      <td>425</td>\n",
       "      <td>325.0</td>\n",
       "      <td>13007.5</td>\n",
       "      <td>1.000000</td>\n",
       "      <td>2.745531</td>\n",
       "    </tr>\n",
       "    <tr>\n",
       "      <th>2024-10-23</th>\n",
       "      <td>12500</td>\n",
       "      <td>12540</td>\n",
       "      <td>12485</td>\n",
       "      <td>12520</td>\n",
       "      <td>424834</td>\n",
       "      <td>0.006836</td>\n",
       "      <td>55</td>\n",
       "      <td>425.0</td>\n",
       "      <td>12712.5</td>\n",
       "      <td>1.000000</td>\n",
       "      <td>2.745531</td>\n",
       "    </tr>\n",
       "  </tbody>\n",
       "</table>\n",
       "<p>2226 rows × 11 columns</p>\n",
       "</div>"
      ],
      "text/plain": [
       "             Open   High    Low  Close   Volume    Change   변동   전일변동  \\\n",
       "Date                                                                    \n",
       "2015-10-01  10161  10161  10094  10101    31634       NaN   67    NaN   \n",
       "2015-10-02  10135  10159  10135  10148    63224  0.004653   24   67.0   \n",
       "2015-10-05  10255  10265  10210  10231    43154  0.008179   55   24.0   \n",
       "2015-10-06  10248  10274  10172  10176    42399 -0.005376  102   55.0   \n",
       "2015-10-07  10094  10094   9947   9949    21324 -0.022307  147  102.0   \n",
       "...           ...    ...    ...    ...      ...       ...  ...    ...   \n",
       "2024-10-17  12945  13010  12820  12900  3745163 -0.000775  190  120.0   \n",
       "2024-10-18  12890  12910  12570  12660  8569730 -0.018605  340  190.0   \n",
       "2024-10-21  12685  12895  12570  12870  8339814  0.016588  325  340.0   \n",
       "2024-10-22  12845  12850  12425  12435  9706716 -0.033800  425  325.0   \n",
       "2024-10-23  12500  12540  12485  12520   424834  0.006836   55  425.0   \n",
       "\n",
       "                목표가       수익률     누적수익률  \n",
       "Date                                     \n",
       "2015-10-01      NaN  1.000000  1.000000  \n",
       "2015-10-02  10168.5  1.000000  1.000000  \n",
       "2015-10-05  10267.0  1.000000  1.000000  \n",
       "2015-10-06  10275.5  1.000000  1.000000  \n",
       "2015-10-07  10145.0  1.000000  1.000000  \n",
       "...             ...       ...       ...  \n",
       "2024-10-17  13005.0  0.991926  2.742331  \n",
       "2024-10-18  12985.0  1.000000  2.742331  \n",
       "2024-10-21  12855.0  1.001167  2.745531  \n",
       "2024-10-22  13007.5  1.000000  2.745531  \n",
       "2024-10-23  12712.5  1.000000  2.745531  \n",
       "\n",
       "[2226 rows x 11 columns]"
      ]
     },
     "execution_count": 10,
     "metadata": {},
     "output_type": "execute_result"
    }
   ],
   "source": [
    "# 거래일의 고가가 목표가보다 크거나 같다면 그 목표가에서 매수\n",
    "# 만약 매수가 일어나지 않으면 그대로 유지되므로 그날의 수익률은 1이 된다.\n",
    "\n",
    "df['수익률'] = np.where(df['High'] >= df['목표가'], df['Close']/df['목표가'],1)\n",
    "# 만약, 고가가 목표가보다 크거나 간다면 Close/ 목표가로 계산하고 아니면, 1로 계산해라 하는 코드의 뜻\n",
    "\n",
    "df['누적수익률'] = df['수익률'].cumprod() # 약 2.7배\n",
    "df"
   ]
  },
  {
   "cell_type": "markdown",
   "id": "e8d2e6ff-fe53-4be0-89e6-6eb6ff46fe32",
   "metadata": {
    "id": "e8d2e6ff-fe53-4be0-89e6-6eb6ff46fe32"
   },
   "source": [
    "##### 연평균 수익률"
   ]
  },
  {
   "cell_type": "code",
   "execution_count": null,
   "id": "3e600bec-24e7-4f10-aeb5-9b07e9841b56",
   "metadata": {
    "id": "3e600bec-24e7-4f10-aeb5-9b07e9841b56",
    "outputId": "717f8c78-daf4-44d3-8d40-7f508c75d78e"
   },
   "outputs": [
    {
     "data": {
      "text/plain": [
       "0.11781044437645649"
      ]
     },
     "execution_count": 13,
     "metadata": {},
     "output_type": "execute_result"
    }
   ],
   "source": [
    "delta = df.index[-1] - df.index[0]\n",
    "year=delta.days / 365\n",
    "year\n",
    "\n",
    "CAGR = df['누적수익률'].iloc[-1] ** (1/year) -1 #연평균 11.7% 수익률이 있다\n",
    "CAGR"
   ]
  },
  {
   "cell_type": "markdown",
   "id": "4b20bf0a-1911-4d9d-97a0-7bb63bfcb1bf",
   "metadata": {
    "id": "4b20bf0a-1911-4d9d-97a0-7bb63bfcb1bf"
   },
   "source": [
    "##### 변동성 돌파 전략 > 단순 보유 보다 좋은지 비교"
   ]
  },
  {
   "cell_type": "code",
   "execution_count": null,
   "id": "5d47fcea-8b5a-4ff5-9195-134cc2557cd9",
   "metadata": {
    "collapsed": true,
    "id": "5d47fcea-8b5a-4ff5-9195-134cc2557cd9",
    "jupyter": {
     "outputs_hidden": true
    },
    "outputId": "1f5c52f8-b88d-44f5-f6d7-bf6a940daec9",
    "scrolled": true
   },
   "outputs": [
    {
     "name": "stdout",
     "output_type": "stream",
     "text": [
      "Collecting koreanize-matplotlib\n",
      "  Downloading koreanize_matplotlib-0.1.1-py3-none-any.whl.metadata (992 bytes)\n",
      "Requirement already satisfied: matplotlib in c:\\users\\campus4d046\\anaconda3\\lib\\site-packages (from koreanize-matplotlib) (3.8.0)\n",
      "Requirement already satisfied: contourpy>=1.0.1 in c:\\users\\campus4d046\\anaconda3\\lib\\site-packages (from matplotlib->koreanize-matplotlib) (1.2.0)\n",
      "Requirement already satisfied: cycler>=0.10 in c:\\users\\campus4d046\\anaconda3\\lib\\site-packages (from matplotlib->koreanize-matplotlib) (0.11.0)\n",
      "Requirement already satisfied: fonttools>=4.22.0 in c:\\users\\campus4d046\\anaconda3\\lib\\site-packages (from matplotlib->koreanize-matplotlib) (4.25.0)\n",
      "Requirement already satisfied: kiwisolver>=1.0.1 in c:\\users\\campus4d046\\anaconda3\\lib\\site-packages (from matplotlib->koreanize-matplotlib) (1.4.4)\n",
      "Requirement already satisfied: numpy<2,>=1.21 in c:\\users\\campus4d046\\anaconda3\\lib\\site-packages (from matplotlib->koreanize-matplotlib) (1.26.4)\n",
      "Requirement already satisfied: packaging>=20.0 in c:\\users\\campus4d046\\anaconda3\\lib\\site-packages (from matplotlib->koreanize-matplotlib) (23.1)\n",
      "Requirement already satisfied: pillow>=6.2.0 in c:\\users\\campus4d046\\anaconda3\\lib\\site-packages (from matplotlib->koreanize-matplotlib) (10.2.0)\n",
      "Requirement already satisfied: pyparsing>=2.3.1 in c:\\users\\campus4d046\\anaconda3\\lib\\site-packages (from matplotlib->koreanize-matplotlib) (3.0.9)\n",
      "Requirement already satisfied: python-dateutil>=2.7 in c:\\users\\campus4d046\\anaconda3\\lib\\site-packages (from matplotlib->koreanize-matplotlib) (2.8.2)\n",
      "Requirement already satisfied: six>=1.5 in c:\\users\\campus4d046\\anaconda3\\lib\\site-packages (from python-dateutil>=2.7->matplotlib->koreanize-matplotlib) (1.16.0)\n",
      "Downloading koreanize_matplotlib-0.1.1-py3-none-any.whl (7.9 MB)\n",
      "   ---------------------------------------- 0.0/7.9 MB ? eta -:--:--\n",
      "   ---------------------------------------- 0.0/7.9 MB ? eta -:--:--\n",
      "   ---------------------------------------- 0.1/7.9 MB 1.1 MB/s eta 0:00:08\n",
      "   -- ------------------------------------- 0.6/7.9 MB 5.8 MB/s eta 0:00:02\n",
      "   ---------- ----------------------------- 2.0/7.9 MB 14.3 MB/s eta 0:00:01\n",
      "   ---------------- ----------------------- 3.3/7.9 MB 19.3 MB/s eta 0:00:01\n",
      "   -------------------------- ------------- 5.2/7.9 MB 23.9 MB/s eta 0:00:01\n",
      "   -------------------------- ------------- 5.2/7.9 MB 23.9 MB/s eta 0:00:01\n",
      "   -------------------------- ------------- 5.2/7.9 MB 23.9 MB/s eta 0:00:01\n",
      "   --------------------------- ------------ 5.5/7.9 MB 15.3 MB/s eta 0:00:01\n",
      "   ------------------------------- -------- 6.3/7.9 MB 16.7 MB/s eta 0:00:01\n",
      "   ------------------------------- -------- 6.3/7.9 MB 16.7 MB/s eta 0:00:01\n",
      "   ------------------------------- -------- 6.3/7.9 MB 16.7 MB/s eta 0:00:01\n",
      "   ------------------------------- -------- 6.3/7.9 MB 16.7 MB/s eta 0:00:01\n",
      "   ------------------------------- -------- 6.3/7.9 MB 16.7 MB/s eta 0:00:01\n",
      "   ------------------------------- -------- 6.3/7.9 MB 16.7 MB/s eta 0:00:01\n",
      "   -------------------------------------- - 7.7/7.9 MB 11.4 MB/s eta 0:00:01\n",
      "   ---------------------------------------  7.9/7.9 MB 11.5 MB/s eta 0:00:01\n",
      "   ---------------------------------------- 7.9/7.9 MB 10.8 MB/s eta 0:00:00\n",
      "Installing collected packages: koreanize-matplotlib\n",
      "Successfully installed koreanize-matplotlib-0.1.1\n",
      "Note: you may need to restart the kernel to use updated packages.\n"
     ]
    }
   ],
   "source": [
    "pip install koreanize-matplotlib"
   ]
  },
  {
   "cell_type": "code",
   "execution_count": null,
   "id": "8c714ccd-ef89-493f-b93b-e4debcf51a17",
   "metadata": {
    "id": "8c714ccd-ef89-493f-b93b-e4debcf51a17",
    "outputId": "d4999cbd-0e23-469a-fc70-737dd11a617e"
   },
   "outputs": [
    {
     "data": {
      "image/png": "[encoded data removed]",
      "text/plain": [
       "<Figure size 1000x500 with 1 Axes>"
      ]
     },
     "metadata": {},
     "output_type": "display_data"
    }
   ],
   "source": [
    "# 변동성 돌파 전략 > 단순 보유 보다 좋아야함\n",
    "import matplotlib.pyplot as plt\n",
    "import koreanize_matplotlib # 폰트 한글로 설정\n",
    "\n",
    "plt.figure(figsize= (10,5))\n",
    "plt.plot(df['누적수익률'])\n",
    "plt.plot(df['Close']/df['Close'].iloc[0])\n",
    "plt.grid()\n",
    "plt.legend(['변동성 돌파 전략',' 단순 보유'])\n",
    "plt.show()"
   ]
  },
  {
   "cell_type": "markdown",
   "id": "5ed510ea-9220-4684-83a8-e87f8ef3bac3",
   "metadata": {
    "id": "5ed510ea-9220-4684-83a8-e87f8ef3bac3"
   },
   "source": [
    "##### 위험도 확인"
   ]
  },
  {
   "cell_type": "code",
   "execution_count": null,
   "id": "69cb5efb-d1ce-4e30-be62-376629806575",
   "metadata": {
    "id": "69cb5efb-d1ce-4e30-be62-376629806575",
    "outputId": "1e4374ff-17b7-4883-cc72-07974786c657"
   },
   "outputs": [
    {
     "data": {
      "text/plain": [
       "16.417571317332424"
      ]
     },
     "execution_count": 21,
     "metadata": {},
     "output_type": "execute_result"
    }
   ],
   "source": [
    "df['전고점'] = df['누적수익률'].cummax() # 자산의 이전 최고 가격\n",
    "\n",
    "# 현재 시점에서 몇 퍼센트정도 하락했는지 확인\n",
    "df['DD'] = (1-df['누적수익률']/df['전고점']) * 100 # 낙점 컬럼\n",
    "df['DD'].max() # 최대 낙폭 M DD"
   ]
  },
  {
   "cell_type": "markdown",
   "id": "ae05c68c-3657-4430-af36-ae96ab7c0ec2",
   "metadata": {
    "id": "ae05c68c-3657-4430-af36-ae96ab7c0ec2"
   },
   "source": [
    "##### 마켓 타이밍 : 하락 구간일땐 무시하고 상승 구간에서만 투자\n",
    "\n",
    "- 10일 이동평균선 위에 있을 때만 투자한다고 가정"
   ]
  },
  {
   "cell_type": "code",
   "execution_count": null,
   "id": "fc8538ab-1dc2-4a04-a7c0-f213c527660b",
   "metadata": {
    "id": "fc8538ab-1dc2-4a04-a7c0-f213c527660b",
    "outputId": "1a404fe3-6699-4db7-9740-269bba332a80"
   },
   "outputs": [
    {
     "data": {
      "text/plain": [
       "1.5666715786156653"
      ]
     },
     "execution_count": 31,
     "metadata": {},
     "output_type": "execute_result"
    }
   ],
   "source": [
    "df['MA10']=df['Close'].rolling(window = 10).mean()\n",
    "\n",
    "\n",
    "# 시가가 전날 이동 평균선 위에 있을 때 매매\n",
    "df['매매신호'] =df['Open'] > df['MA10'].shift(1)\n",
    "\n",
    "\n",
    "df['수익률2'] = np.where((df['매매신호']==1 ) & (df['High']>=df['목표가'])\n",
    "                      ,df['Close']/df['목표가'], 1)\n",
    "\n",
    "df['누적수익률2'] = df['수익률2'].cumprod()\n",
    "df['누적수익률2'].iloc[-1] # 1.56배 수익률은 낮아졌지만 MDD(낙폭)이 어떤지 확인 해봐야함\n"
   ]
  },
  {
   "cell_type": "code",
   "execution_count": null,
   "id": "be8eae02-3dac-4317-8cb8-0362328206bf",
   "metadata": {
    "id": "be8eae02-3dac-4317-8cb8-0362328206bf",
    "outputId": "21abc112-f19b-4e88-eb9f-0fd4f89faec7"
   },
   "outputs": [
    {
     "data": {
      "text/plain": [
       "14.367365943377418"
      ]
     },
     "execution_count": 33,
     "metadata": {},
     "output_type": "execute_result"
    }
   ],
   "source": [
    "df['전고점2'] = df['누적수익률2'].cummax()\n",
    "df['DD2'] = (1 - df['누적수익률2'] / df['전고점2']) *100\n",
    "df['DD2'].max() # MDD(위험도) : 14"
   ]
  },
  {
   "cell_type": "markdown",
   "id": "f1395a74-bf04-4e24-98f2-ca2fb616e88d",
   "metadata": {
    "id": "f1395a74-bf04-4e24-98f2-ca2fb616e88d"
   },
   "source": [
    "#### ETF\n",
    "\n",
    "- 각 종목으로 나뉘어 있는것 보다 좋음\n",
    "- ETF : 여러개 종목을 묶어 놓은 것"
   ]
  },
  {
   "cell_type": "code",
   "execution_count": 3,
   "id": "ae173290-1d15-4f4e-b213-392728887683",
   "metadata": {
    "colab": {
     "base_uri": "https://localhost:8080/"
    },
    "executionInfo": {
     "elapsed": 19869,
     "status": "ok",
     "timestamp": 1729657595075,
     "user": {
      "displayName": "김우진",
      "userId": "03388991008972650529"
     },
     "user_tz": -540
    },
    "id": "ae173290-1d15-4f4e-b213-392728887683",
    "outputId": "3629d872-c90f-4a39-dced-1ce6c0785726"
   },
   "outputs": [
    {
     "name": "stderr",
     "output_type": "stream",
     "text": [
      "100%|██████████| 792/792 [00:18<00:00, 43.42it/s]\n"
     ]
    }
   ],
   "source": [
    "import os\n",
    "import pandas as pd\n",
    "from tqdm import tqdm\n",
    "# RSI : 상대강도지수(0~100)\n",
    "# 금융 시장에서 주식이나 다른 자산의 과매수 또는 과매도 상태를 파악하기 위해 사용하는 기술\n",
    "# 표준화를 안해도되서 RSI를 사용하는 것이 좋음\n",
    "\n",
    "X = []\n",
    "Y = []\n",
    "\n",
    "window = 100\n",
    "\n",
    "#LINE으로 보내기까지\n",
    "for i in tqdm(os.listdir('/content/drive/MyDrive/iMbank_ML,DL실습/금융데이터분석/금융분석_1023/ETFs')):\n",
    "    name = i.split('.')[0]\n",
    "    df = pd.read_csv('/content/drive/MyDrive/iMbank_ML,DL실습/금융데이터분석/금융분석_1023/ETFs/' + i)\n",
    "    df['Date'] = pd.to_datetime(df['Date'])\n",
    "    df = df.set_index('Date')\n",
    "    # print(df)\n",
    "\n",
    "    data = df[['Change','RSI','Close']].values # 최대한 표준화된 데이터만 사용 Tip임 , valuse 사용하여 빠르게\n",
    "    # print(data)\n",
    "\n",
    "    for j in range(len(data) - window):\n",
    "        try:\n",
    "            a = data[j :j+window, :-1].flatten()\n",
    "            b= int(data[j+window-1,-1]*1.02 < data[j+window, -1])\n",
    "\n",
    "             # try 하는 이유 만약, 10개의 데이터 밖에 없다면 오류가 나기 때문\n",
    "\n",
    "            #a = data.iloc[j : j + window][['Change','RSI']].to_numpy().flatten() # 문제집 만들기\n",
    "            # flatten()은 2차원 배열을 1차원 배열로 변환하여, 데이터를 간편하게 다룰 수 있도록 하는 기능입니다.\n",
    "            # print(a)\n",
    "            #b = int(data.iloc[j+window -1]['Close'] * 1.05 < data.iloc[j + window]['Close'])# 문제집의 가장 마지막 값보다 5센트 종가가 올랐는게 정답지\n",
    "            # j+window -1 문제집의 마지막 값의 가격의 5% 오른값보다 다음날 가격이 크다면\n",
    "            #print(b)\n",
    "\n",
    "        except:\n",
    "            continue\n",
    "        X.append(a)\n",
    "        Y.append(b)\n"
   ]
  },
  {
   "cell_type": "code",
   "execution_count": 4,
   "id": "IHIEKlzuYaZi",
   "metadata": {
    "colab": {
     "base_uri": "https://localhost:8080/"
    },
    "executionInfo": {
     "elapsed": 345,
     "status": "ok",
     "timestamp": 1729657595418,
     "user": {
      "displayName": "김우진",
      "userId": "03388991008972650529"
     },
     "user_tz": -540
    },
    "id": "IHIEKlzuYaZi",
    "outputId": "d7749fba-8a19-49f9-fd60-c303f5257053"
   },
   "outputs": [
    {
     "data": {
      "text/plain": [
       "(842101, 842101)"
      ]
     },
     "execution_count": 4,
     "metadata": {},
     "output_type": "execute_result"
    }
   ],
   "source": [
    "len(X),len(Y)"
   ]
  },
  {
   "cell_type": "code",
   "execution_count": 5,
   "id": "5EAFnFakYc_K",
   "metadata": {
    "colab": {
     "base_uri": "https://localhost:8080/"
    },
    "executionInfo": {
     "elapsed": 2676,
     "status": "ok",
     "timestamp": 1729657598091,
     "user": {
      "displayName": "김우진",
      "userId": "03388991008972650529"
     },
     "user_tz": -540
    },
    "id": "5EAFnFakYc_K",
    "outputId": "9ac24a1a-5cb6-483a-e66d-f1c77051c248"
   },
   "outputs": [
    {
     "name": "stdout",
     "output_type": "stream",
     "text": [
      "Requirement already satisfied: xgboost in /usr/local/lib/python3.10/dist-packages (2.1.1)\n",
      "Requirement already satisfied: numpy in /usr/local/lib/python3.10/dist-packages (from xgboost) (1.26.4)\n",
      "Requirement already satisfied: nvidia-nccl-cu12 in /usr/local/lib/python3.10/dist-packages (from xgboost) (2.23.4)\n",
      "Requirement already satisfied: scipy in /usr/local/lib/python3.10/dist-packages (from xgboost) (1.13.1)\n"
     ]
    }
   ],
   "source": [
    "pip install xgboost"
   ]
  },
  {
   "cell_type": "code",
   "execution_count": 6,
   "id": "8b01c6b3-1b13-451f-bc7d-c8fff2df2de3",
   "metadata": {
    "colab": {
     "base_uri": "https://localhost:8080/"
    },
    "executionInfo": {
     "elapsed": 126855,
     "status": "ok",
     "timestamp": 1729657724942,
     "user": {
      "displayName": "김우진",
      "userId": "03388991008972650529"
     },
     "user_tz": -540
    },
    "id": "8b01c6b3-1b13-451f-bc7d-c8fff2df2de3",
    "outputId": "9c867b05-ca6d-4427-f0ad-057e9f652f56"
   },
   "outputs": [
    {
     "name": "stdout",
     "output_type": "stream",
     "text": [
      "              precision    recall  f1-score   support\n",
      "\n",
      "           0       0.96      1.00      0.98    200326\n",
      "           1       0.76      0.20      0.32     10200\n",
      "\n",
      "    accuracy                           0.96    210526\n",
      "   macro avg       0.86      0.60      0.65    210526\n",
      "weighted avg       0.95      0.96      0.95    210526\n",
      "\n"
     ]
    }
   ],
   "source": [
    "from sklearn.model_selection import train_test_split\n",
    "from sklearn.metrics import classification_report\n",
    "from xgboost import XGBClassifier\n",
    "\n",
    "train_x, test_x, train_y, test_y = train_test_split(X,Y)\n",
    "\n",
    "model = XGBClassifier()\n",
    "\n",
    "model.fit(train_x,train_y)\n",
    "\n",
    "pred = model.predict(test_x)\n",
    "\n",
    "report = classification_report(test_y,pred)\n",
    "print(report)"
   ]
  },
  {
   "cell_type": "code",
   "execution_count": 7,
   "id": "8WgE_ewNYN5L",
   "metadata": {
    "colab": {
     "base_uri": "https://localhost:8080/",
     "height": 253
    },
    "executionInfo": {
     "elapsed": 133876,
     "status": "ok",
     "timestamp": 1729657858815,
     "user": {
      "displayName": "김우진",
      "userId": "03388991008972650529"
     },
     "user_tz": -540
    },
    "id": "8WgE_ewNYN5L",
    "outputId": "0b27e863-c5ea-4c39-dbf1-56eed2f4cbb1"
   },
   "outputs": [
    {
     "data": {
      "text/html": [
       "<style>#sk-container-id-1 {\n",
       "  /* Definition of color scheme common for light and dark mode */\n",
       "  --sklearn-color-text: black;\n",
       "  --sklearn-color-line: gray;\n",
       "  /* Definition of color scheme for unfitted estimators */\n",
       "  --sklearn-color-unfitted-level-0: #fff5e6;\n",
       "  --sklearn-color-unfitted-level-1: #f6e4d2;\n",
       "  --sklearn-color-unfitted-level-2: #ffe0b3;\n",
       "  --sklearn-color-unfitted-level-3: chocolate;\n",
       "  /* Definition of color scheme for fitted estimators */\n",
       "  --sklearn-color-fitted-level-0: #f0f8ff;\n",
       "  --sklearn-color-fitted-level-1: #d4ebff;\n",
       "  --sklearn-color-fitted-level-2: #b3dbfd;\n",
       "  --sklearn-color-fitted-level-3: cornflowerblue;\n",
       "\n",
       "  /* Specific color for light theme */\n",
       "  --sklearn-color-text-on-default-background: var(--sg-text-color, var(--theme-code-foreground, var(--jp-content-font-color1, black)));\n",
       "  --sklearn-color-background: var(--sg-background-color, var(--theme-background, var(--jp-layout-color0, white)));\n",
       "  --sklearn-color-border-box: var(--sg-text-color, var(--theme-code-foreground, var(--jp-content-font-color1, black)));\n",
       "  --sklearn-color-icon: #696969;\n",
       "\n",
       "  @media (prefers-color-scheme: dark) {\n",
       "    /* Redefinition of color scheme for dark theme */\n",
       "    --sklearn-color-text-on-default-background: var(--sg-text-color, var(--theme-code-foreground, var(--jp-content-font-color1, white)));\n",
       "    --sklearn-color-background: var(--sg-background-color, var(--theme-background, var(--jp-layout-color0, #111)));\n",
       "    --sklearn-color-border-box: var(--sg-text-color, var(--theme-code-foreground, var(--jp-content-font-color1, white)));\n",
       "    --sklearn-color-icon: #878787;\n",
       "  }\n",
       "}\n",
       "\n",
       "#sk-container-id-1 {\n",
       "  color: var(--sklearn-color-text);\n",
       "}\n",
       "\n",
       "#sk-container-id-1 pre {\n",
       "  padding: 0;\n",
       "}\n",
       "\n",
       "#sk-container-id-1 input.sk-hidden--visually {\n",
       "  border: 0;\n",
       "  clip: rect(1px 1px 1px 1px);\n",
       "  clip: rect(1px, 1px, 1px, 1px);\n",
       "  height: 1px;\n",
       "  margin: -1px;\n",
       "  overflow: hidden;\n",
       "  padding: 0;\n",
       "  position: absolute;\n",
       "  width: 1px;\n",
       "}\n",
       "\n",
       "#sk-container-id-1 div.sk-dashed-wrapped {\n",
       "  border: 1px dashed var(--sklearn-color-line);\n",
       "  margin: 0 0.4em 0.5em 0.4em;\n",
       "  box-sizing: border-box;\n",
       "  padding-bottom: 0.4em;\n",
       "  background-color: var(--sklearn-color-background);\n",
       "}\n",
       "\n",
       "#sk-container-id-1 div.sk-container {\n",
       "  /* jupyter's `normalize.less` sets `[hidden] { display: none; }`\n",
       "     but bootstrap.min.css set `[hidden] { display: none !important; }`\n",
       "     so we also need the `!important` here to be able to override the\n",
       "     default hidden behavior on the sphinx rendered scikit-learn.org.\n",
       "     See: https://github.com/scikit-learn/scikit-learn/issues/21755 */\n",
       "  display: inline-block !important;\n",
       "  position: relative;\n",
       "}\n",
       "\n",
       "#sk-container-id-1 div.sk-text-repr-fallback {\n",
       "  display: none;\n",
       "}\n",
       "\n",
       "div.sk-parallel-item,\n",
       "div.sk-serial,\n",
       "div.sk-item {\n",
       "  /* draw centered vertical line to link estimators */\n",
       "  background-image: linear-gradient(var(--sklearn-color-text-on-default-background), var(--sklearn-color-text-on-default-background));\n",
       "  background-size: 2px 100%;\n",
       "  background-repeat: no-repeat;\n",
       "  background-position: center center;\n",
       "}\n",
       "\n",
       "/* Parallel-specific style estimator block */\n",
       "\n",
       "#sk-container-id-1 div.sk-parallel-item::after {\n",
       "  content: \"\";\n",
       "  width: 100%;\n",
       "  border-bottom: 2px solid var(--sklearn-color-text-on-default-background);\n",
       "  flex-grow: 1;\n",
       "}\n",
       "\n",
       "#sk-container-id-1 div.sk-parallel {\n",
       "  display: flex;\n",
       "  align-items: stretch;\n",
       "  justify-content: center;\n",
       "  background-color: var(--sklearn-color-background);\n",
       "  position: relative;\n",
       "}\n",
       "\n",
       "#sk-container-id-1 div.sk-parallel-item {\n",
       "  display: flex;\n",
       "  flex-direction: column;\n",
       "}\n",
       "\n",
       "#sk-container-id-1 div.sk-parallel-item:first-child::after {\n",
       "  align-self: flex-end;\n",
       "  width: 50%;\n",
       "}\n",
       "\n",
       "#sk-container-id-1 div.sk-parallel-item:last-child::after {\n",
       "  align-self: flex-start;\n",
       "  width: 50%;\n",
       "}\n",
       "\n",
       "#sk-container-id-1 div.sk-parallel-item:only-child::after {\n",
       "  width: 0;\n",
       "}\n",
       "\n",
       "/* Serial-specific style estimator block */\n",
       "\n",
       "#sk-container-id-1 div.sk-serial {\n",
       "  display: flex;\n",
       "  flex-direction: column;\n",
       "  align-items: center;\n",
       "  background-color: var(--sklearn-color-background);\n",
       "  padding-right: 1em;\n",
       "  padding-left: 1em;\n",
       "}\n",
       "\n",
       "\n",
       "/* Toggleable style: style used for estimator/Pipeline/ColumnTransformer box that is\n",
       "clickable and can be expanded/collapsed.\n",
       "- Pipeline and ColumnTransformer use this feature and define the default style\n",
       "- Estimators will overwrite some part of the style using the `sk-estimator` class\n",
       "*/\n",
       "\n",
       "/* Pipeline and ColumnTransformer style (default) */\n",
       "\n",
       "#sk-container-id-1 div.sk-toggleable {\n",
       "  /* Default theme specific background. It is overwritten whether we have a\n",
       "  specific estimator or a Pipeline/ColumnTransformer */\n",
       "  background-color: var(--sklearn-color-background);\n",
       "}\n",
       "\n",
       "/* Toggleable label */\n",
       "#sk-container-id-1 label.sk-toggleable__label {\n",
       "  cursor: pointer;\n",
       "  display: block;\n",
       "  width: 100%;\n",
       "  margin-bottom: 0;\n",
       "  padding: 0.5em;\n",
       "  box-sizing: border-box;\n",
       "  text-align: center;\n",
       "}\n",
       "\n",
       "#sk-container-id-1 label.sk-toggleable__label-arrow:before {\n",
       "  /* Arrow on the left of the label */\n",
       "  content: \"▸\";\n",
       "  float: left;\n",
       "  margin-right: 0.25em;\n",
       "  color: var(--sklearn-color-icon);\n",
       "}\n",
       "\n",
       "#sk-container-id-1 label.sk-toggleable__label-arrow:hover:before {\n",
       "  color: var(--sklearn-color-text);\n",
       "}\n",
       "\n",
       "/* Toggleable content - dropdown */\n",
       "\n",
       "#sk-container-id-1 div.sk-toggleable__content {\n",
       "  max-height: 0;\n",
       "  max-width: 0;\n",
       "  overflow: hidden;\n",
       "  text-align: left;\n",
       "  /* unfitted */\n",
       "  background-color: var(--sklearn-color-unfitted-level-0);\n",
       "}\n",
       "\n",
       "#sk-container-id-1 div.sk-toggleable__content.fitted {\n",
       "  /* fitted */\n",
       "  background-color: var(--sklearn-color-fitted-level-0);\n",
       "}\n",
       "\n",
       "#sk-container-id-1 div.sk-toggleable__content pre {\n",
       "  margin: 0.2em;\n",
       "  border-radius: 0.25em;\n",
       "  color: var(--sklearn-color-text);\n",
       "  /* unfitted */\n",
       "  background-color: var(--sklearn-color-unfitted-level-0);\n",
       "}\n",
       "\n",
       "#sk-container-id-1 div.sk-toggleable__content.fitted pre {\n",
       "  /* unfitted */\n",
       "  background-color: var(--sklearn-color-fitted-level-0);\n",
       "}\n",
       "\n",
       "#sk-container-id-1 input.sk-toggleable__control:checked~div.sk-toggleable__content {\n",
       "  /* Expand drop-down */\n",
       "  max-height: 200px;\n",
       "  max-width: 100%;\n",
       "  overflow: auto;\n",
       "}\n",
       "\n",
       "#sk-container-id-1 input.sk-toggleable__control:checked~label.sk-toggleable__label-arrow:before {\n",
       "  content: \"▾\";\n",
       "}\n",
       "\n",
       "/* Pipeline/ColumnTransformer-specific style */\n",
       "\n",
       "#sk-container-id-1 div.sk-label input.sk-toggleable__control:checked~label.sk-toggleable__label {\n",
       "  color: var(--sklearn-color-text);\n",
       "  background-color: var(--sklearn-color-unfitted-level-2);\n",
       "}\n",
       "\n",
       "#sk-container-id-1 div.sk-label.fitted input.sk-toggleable__control:checked~label.sk-toggleable__label {\n",
       "  background-color: var(--sklearn-color-fitted-level-2);\n",
       "}\n",
       "\n",
       "/* Estimator-specific style */\n",
       "\n",
       "/* Colorize estimator box */\n",
       "#sk-container-id-1 div.sk-estimator input.sk-toggleable__control:checked~label.sk-toggleable__label {\n",
       "  /* unfitted */\n",
       "  background-color: var(--sklearn-color-unfitted-level-2);\n",
       "}\n",
       "\n",
       "#sk-container-id-1 div.sk-estimator.fitted input.sk-toggleable__control:checked~label.sk-toggleable__label {\n",
       "  /* fitted */\n",
       "  background-color: var(--sklearn-color-fitted-level-2);\n",
       "}\n",
       "\n",
       "#sk-container-id-1 div.sk-label label.sk-toggleable__label,\n",
       "#sk-container-id-1 div.sk-label label {\n",
       "  /* The background is the default theme color */\n",
       "  color: var(--sklearn-color-text-on-default-background);\n",
       "}\n",
       "\n",
       "/* On hover, darken the color of the background */\n",
       "#sk-container-id-1 div.sk-label:hover label.sk-toggleable__label {\n",
       "  color: var(--sklearn-color-text);\n",
       "  background-color: var(--sklearn-color-unfitted-level-2);\n",
       "}\n",
       "\n",
       "/* Label box, darken color on hover, fitted */\n",
       "#sk-container-id-1 div.sk-label.fitted:hover label.sk-toggleable__label.fitted {\n",
       "  color: var(--sklearn-color-text);\n",
       "  background-color: var(--sklearn-color-fitted-level-2);\n",
       "}\n",
       "\n",
       "/* Estimator label */\n",
       "\n",
       "#sk-container-id-1 div.sk-label label {\n",
       "  font-family: monospace;\n",
       "  font-weight: bold;\n",
       "  display: inline-block;\n",
       "  line-height: 1.2em;\n",
       "}\n",
       "\n",
       "#sk-container-id-1 div.sk-label-container {\n",
       "  text-align: center;\n",
       "}\n",
       "\n",
       "/* Estimator-specific */\n",
       "#sk-container-id-1 div.sk-estimator {\n",
       "  font-family: monospace;\n",
       "  border: 1px dotted var(--sklearn-color-border-box);\n",
       "  border-radius: 0.25em;\n",
       "  box-sizing: border-box;\n",
       "  margin-bottom: 0.5em;\n",
       "  /* unfitted */\n",
       "  background-color: var(--sklearn-color-unfitted-level-0);\n",
       "}\n",
       "\n",
       "#sk-container-id-1 div.sk-estimator.fitted {\n",
       "  /* fitted */\n",
       "  background-color: var(--sklearn-color-fitted-level-0);\n",
       "}\n",
       "\n",
       "/* on hover */\n",
       "#sk-container-id-1 div.sk-estimator:hover {\n",
       "  /* unfitted */\n",
       "  background-color: var(--sklearn-color-unfitted-level-2);\n",
       "}\n",
       "\n",
       "#sk-container-id-1 div.sk-estimator.fitted:hover {\n",
       "  /* fitted */\n",
       "  background-color: var(--sklearn-color-fitted-level-2);\n",
       "}\n",
       "\n",
       "/* Specification for estimator info (e.g. \"i\" and \"?\") */\n",
       "\n",
       "/* Common style for \"i\" and \"?\" */\n",
       "\n",
       ".sk-estimator-doc-link,\n",
       "a:link.sk-estimator-doc-link,\n",
       "a:visited.sk-estimator-doc-link {\n",
       "  float: right;\n",
       "  font-size: smaller;\n",
       "  line-height: 1em;\n",
       "  font-family: monospace;\n",
       "  background-color: var(--sklearn-color-background);\n",
       "  border-radius: 1em;\n",
       "  height: 1em;\n",
       "  width: 1em;\n",
       "  text-decoration: none !important;\n",
       "  margin-left: 1ex;\n",
       "  /* unfitted */\n",
       "  border: var(--sklearn-color-unfitted-level-1) 1pt solid;\n",
       "  color: var(--sklearn-color-unfitted-level-1);\n",
       "}\n",
       "\n",
       ".sk-estimator-doc-link.fitted,\n",
       "a:link.sk-estimator-doc-link.fitted,\n",
       "a:visited.sk-estimator-doc-link.fitted {\n",
       "  /* fitted */\n",
       "  border: var(--sklearn-color-fitted-level-1) 1pt solid;\n",
       "  color: var(--sklearn-color-fitted-level-1);\n",
       "}\n",
       "\n",
       "/* On hover */\n",
       "div.sk-estimator:hover .sk-estimator-doc-link:hover,\n",
       ".sk-estimator-doc-link:hover,\n",
       "div.sk-label-container:hover .sk-estimator-doc-link:hover,\n",
       ".sk-estimator-doc-link:hover {\n",
       "  /* unfitted */\n",
       "  background-color: var(--sklearn-color-unfitted-level-3);\n",
       "  color: var(--sklearn-color-background);\n",
       "  text-decoration: none;\n",
       "}\n",
       "\n",
       "div.sk-estimator.fitted:hover .sk-estimator-doc-link.fitted:hover,\n",
       ".sk-estimator-doc-link.fitted:hover,\n",
       "div.sk-label-container:hover .sk-estimator-doc-link.fitted:hover,\n",
       ".sk-estimator-doc-link.fitted:hover {\n",
       "  /* fitted */\n",
       "  background-color: var(--sklearn-color-fitted-level-3);\n",
       "  color: var(--sklearn-color-background);\n",
       "  text-decoration: none;\n",
       "}\n",
       "\n",
       "/* Span, style for the box shown on hovering the info icon */\n",
       ".sk-estimator-doc-link span {\n",
       "  display: none;\n",
       "  z-index: 9999;\n",
       "  position: relative;\n",
       "  font-weight: normal;\n",
       "  right: .2ex;\n",
       "  padding: .5ex;\n",
       "  margin: .5ex;\n",
       "  width: min-content;\n",
       "  min-width: 20ex;\n",
       "  max-width: 50ex;\n",
       "  color: var(--sklearn-color-text);\n",
       "  box-shadow: 2pt 2pt 4pt #999;\n",
       "  /* unfitted */\n",
       "  background: var(--sklearn-color-unfitted-level-0);\n",
       "  border: .5pt solid var(--sklearn-color-unfitted-level-3);\n",
       "}\n",
       "\n",
       ".sk-estimator-doc-link.fitted span {\n",
       "  /* fitted */\n",
       "  background: var(--sklearn-color-fitted-level-0);\n",
       "  border: var(--sklearn-color-fitted-level-3);\n",
       "}\n",
       "\n",
       ".sk-estimator-doc-link:hover span {\n",
       "  display: block;\n",
       "}\n",
       "\n",
       "/* \"?\"-specific style due to the `<a>` HTML tag */\n",
       "\n",
       "#sk-container-id-1 a.estimator_doc_link {\n",
       "  float: right;\n",
       "  font-size: 1rem;\n",
       "  line-height: 1em;\n",
       "  font-family: monospace;\n",
       "  background-color: var(--sklearn-color-background);\n",
       "  border-radius: 1rem;\n",
       "  height: 1rem;\n",
       "  width: 1rem;\n",
       "  text-decoration: none;\n",
       "  /* unfitted */\n",
       "  color: var(--sklearn-color-unfitted-level-1);\n",
       "  border: var(--sklearn-color-unfitted-level-1) 1pt solid;\n",
       "}\n",
       "\n",
       "#sk-container-id-1 a.estimator_doc_link.fitted {\n",
       "  /* fitted */\n",
       "  border: var(--sklearn-color-fitted-level-1) 1pt solid;\n",
       "  color: var(--sklearn-color-fitted-level-1);\n",
       "}\n",
       "\n",
       "/* On hover */\n",
       "#sk-container-id-1 a.estimator_doc_link:hover {\n",
       "  /* unfitted */\n",
       "  background-color: var(--sklearn-color-unfitted-level-3);\n",
       "  color: var(--sklearn-color-background);\n",
       "  text-decoration: none;\n",
       "}\n",
       "\n",
       "#sk-container-id-1 a.estimator_doc_link.fitted:hover {\n",
       "  /* fitted */\n",
       "  background-color: var(--sklearn-color-fitted-level-3);\n",
       "}\n",
       "</style><div id=\"sk-container-id-1\" class=\"sk-top-container\"><div class=\"sk-text-repr-fallback\"><pre>XGBClassifier(base_score=None, booster=None, callbacks=None,\n",
       "              colsample_bylevel=None, colsample_bynode=None,\n",
       "              colsample_bytree=None, device=None, early_stopping_rounds=None,\n",
       "              enable_categorical=False, eval_metric=None, feature_types=None,\n",
       "              gamma=None, grow_policy=None, importance_type=None,\n",
       "              interaction_constraints=None, learning_rate=None, max_bin=None,\n",
       "              max_cat_threshold=None, max_cat_to_onehot=None,\n",
       "              max_delta_step=None, max_depth=None, max_leaves=None,\n",
       "              min_child_weight=None, missing=nan, monotone_constraints=None,\n",
       "              multi_strategy=None, n_estimators=None, n_jobs=None,\n",
       "              num_parallel_tree=None, random_state=None, ...)</pre><b>In a Jupyter environment, please rerun this cell to show the HTML representation or trust the notebook. <br />On GitHub, the HTML representation is unable to render, please try loading this page with nbviewer.org.</b></div><div class=\"sk-container\" hidden><div class=\"sk-item\"><div class=\"sk-estimator fitted sk-toggleable\"><input class=\"sk-toggleable__control sk-hidden--visually\" id=\"sk-estimator-id-1\" type=\"checkbox\" checked><label for=\"sk-estimator-id-1\" class=\"sk-toggleable__label fitted sk-toggleable__label-arrow fitted\">&nbsp;XGBClassifier<span class=\"sk-estimator-doc-link fitted\">i<span>Fitted</span></span></label><div class=\"sk-toggleable__content fitted\"><pre>XGBClassifier(base_score=None, booster=None, callbacks=None,\n",
       "              colsample_bylevel=None, colsample_bynode=None,\n",
       "              colsample_bytree=None, device=None, early_stopping_rounds=None,\n",
       "              enable_categorical=False, eval_metric=None, feature_types=None,\n",
       "              gamma=None, grow_policy=None, importance_type=None,\n",
       "              interaction_constraints=None, learning_rate=None, max_bin=None,\n",
       "              max_cat_threshold=None, max_cat_to_onehot=None,\n",
       "              max_delta_step=None, max_depth=None, max_leaves=None,\n",
       "              min_child_weight=None, missing=nan, monotone_constraints=None,\n",
       "              multi_strategy=None, n_estimators=None, n_jobs=None,\n",
       "              num_parallel_tree=None, random_state=None, ...)</pre></div> </div></div></div></div>"
      ],
      "text/plain": [
       "XGBClassifier(base_score=None, booster=None, callbacks=None,\n",
       "              colsample_bylevel=None, colsample_bynode=None,\n",
       "              colsample_bytree=None, device=None, early_stopping_rounds=None,\n",
       "              enable_categorical=False, eval_metric=None, feature_types=None,\n",
       "              gamma=None, grow_policy=None, importance_type=None,\n",
       "              interaction_constraints=None, learning_rate=None, max_bin=None,\n",
       "              max_cat_threshold=None, max_cat_to_onehot=None,\n",
       "              max_delta_step=None, max_depth=None, max_leaves=None,\n",
       "              min_child_weight=None, missing=nan, monotone_constraints=None,\n",
       "              multi_strategy=None, n_estimators=None, n_jobs=None,\n",
       "              num_parallel_tree=None, random_state=None, ...)"
      ]
     },
     "execution_count": 7,
     "metadata": {},
     "output_type": "execute_result"
    }
   ],
   "source": [
    "model.fit(X,Y)"
   ]
  },
  {
   "cell_type": "code",
   "execution_count": 8,
   "id": "cZLQiKGcYPNV",
   "metadata": {
    "executionInfo": {
     "elapsed": 14853,
     "status": "ok",
     "timestamp": 1729657873665,
     "user": {
      "displayName": "김우진",
      "userId": "03388991008972650529"
     },
     "user_tz": -540
    },
    "id": "cZLQiKGcYPNV"
   },
   "outputs": [],
   "source": [
    "#LINE으로 보내기까지\n",
    "\n",
    "total = []\n",
    "for i in os.listdir('/content/drive/MyDrive/iMbank_ML,DL실습/금융데이터분석/금융분석_1023/ETFs'):\n",
    "    name = i.split('.')[0]\n",
    "    df = pd.read_csv('/content/drive/MyDrive/iMbank_ML,DL실습/금융데이터분석/금융분석_1023/ETFs/' + i)\n",
    "    df['Date'] = pd.to_datetime(df['Date'])\n",
    "    df = df.set_index('Date')\n",
    "    # print(df)\n",
    "\n",
    "    data = df[['Change','RSI','Close']]\n",
    "    today_data = data.iloc[-window:][['Change','RSI']].to_numpy().flatten()\n",
    "    try:\n",
    "        pred = model.predict_proba([today_data])[0][1]\n",
    "        if pred > 0.7 :\n",
    "            total.append([name,pred])\n",
    "            #print(name)\n",
    "    except:\n",
    "        continue\n"
   ]
  },
  {
   "cell_type": "code",
   "execution_count": 9,
   "id": "RPOJEHbpY5lk",
   "metadata": {
    "colab": {
     "base_uri": "https://localhost:8080/"
    },
    "executionInfo": {
     "elapsed": 8,
     "status": "ok",
     "timestamp": 1729657873666,
     "user": {
      "displayName": "김우진",
      "userId": "03388991008972650529"
     },
     "user_tz": -540
    },
    "id": "RPOJEHbpY5lk",
    "outputId": "906efbc4-89a3-429b-87ba-487de516594e"
   },
   "outputs": [
    {
     "data": {
      "text/plain": [
       "[['TIGER AI반도체핵심공정', 0.7299916]]"
      ]
     },
     "execution_count": 9,
     "metadata": {},
     "output_type": "execute_result"
    }
   ],
   "source": [
    "total"
   ]
  },
  {
   "cell_type": "code",
   "execution_count": 10,
   "id": "QonhWoemlZ0U",
   "metadata": {
    "colab": {
     "base_uri": "https://localhost:8080/"
    },
    "executionInfo": {
     "elapsed": 5,
     "status": "ok",
     "timestamp": 1729657873666,
     "user": {
      "displayName": "김우진",
      "userId": "03388991008972650529"
     },
     "user_tz": -540
    },
    "id": "QonhWoemlZ0U",
    "outputId": "4a5e02ec-6dd8-41f4-eba6-02819887f517"
   },
   "outputs": [
    {
     "name": "stdout",
     "output_type": "stream",
     "text": [
      "2024-10-23 기준 종목 예측 \n",
      "\n",
      "추천종목 : TIGER AI반도체핵심공정 (0.73)\n",
      "\n"
     ]
    }
   ],
   "source": [
    "from datetime import datetime\n",
    "today=str(datetime.today().date())\n",
    "\n",
    "t = f'{today} 기준 종목 예측 \\n\\n'\n",
    "\n",
    "for i in total:\n",
    "    t +=f'추천종목 : {i[0]} ({i[1]:.2f})\\n'\n",
    "\n",
    "print(t)"
   ]
  },
  {
   "cell_type": "code",
   "execution_count": 35,
   "id": "309nCgm_m4qX",
   "metadata": {
    "colab": {
     "base_uri": "https://localhost:8080/"
    },
    "collapsed": true,
    "executionInfo": {
     "elapsed": 7883,
     "status": "ok",
     "timestamp": 1729657397899,
     "user": {
      "displayName": "김우진",
      "userId": "03388991008972650529"
     },
     "user_tz": -540
    },
    "id": "309nCgm_m4qX",
    "jupyter": {
     "outputs_hidden": true
    },
    "outputId": "e72f4663-1df3-40ce-b7dd-de1f79a647b7"
   },
   "outputs": [
    {
     "name": "stdout",
     "output_type": "stream",
     "text": [
      "Collecting line_notify\n",
      "  Downloading line_notify-0.1.4.tar.gz (2.2 kB)\n",
      "  Preparing metadata (setup.py) ... \u001b[?25l\u001b[?25hdone\n",
      "Requirement already satisfied: requests in /usr/local/lib/python3.10/dist-packages (from line_notify) (2.32.3)\n",
      "Requirement already satisfied: charset-normalizer<4,>=2 in /usr/local/lib/python3.10/dist-packages (from requests->line_notify) (3.4.0)\n",
      "Requirement already satisfied: idna<4,>=2.5 in /usr/local/lib/python3.10/dist-packages (from requests->line_notify) (3.10)\n",
      "Requirement already satisfied: urllib3<3,>=1.21.1 in /usr/local/lib/python3.10/dist-packages (from requests->line_notify) (2.2.3)\n",
      "Requirement already satisfied: certifi>=2017.4.17 in /usr/local/lib/python3.10/dist-packages (from requests->line_notify) (2024.8.30)\n",
      "Building wheels for collected packages: line_notify\n",
      "  Building wheel for line_notify (setup.py) ... \u001b[?25l\u001b[?25hdone\n",
      "  Created wheel for line_notify: filename=line_notify-0.1.4-py3-none-any.whl size=2655 sha256=2517fb4461222580342552de05e9b624ad512318478665a6f5bb5b04e9b1a6c6\n",
      "  Stored in directory: /root/.cache/pip/wheels/67/6c/44/d1d7f01e440da6453d2b5f1e781cc9089af69867bbc4f3d795\n",
      "Successfully built line_notify\n",
      "Installing collected packages: line_notify\n",
      "Successfully installed line_notify-0.1.4\n"
     ]
    }
   ],
   "source": [
    "!pip install line_notify"
   ]
  },
  {
   "cell_type": "code",
   "execution_count": 11,
   "id": "3mgAdbq1nUIO",
   "metadata": {
    "executionInfo": {
     "elapsed": 1120,
     "status": "ok",
     "timestamp": 1729657928132,
     "user": {
      "displayName": "김우진",
      "userId": "03388991008972650529"
     },
     "user_tz": -540
    },
    "id": "3mgAdbq1nUIO"
   },
   "outputs": [],
   "source": [
    "from line_notify import LineNotify\n",
    "\n",
    "my_key = \"라인 토큰 키\"\n",
    "my_line = LineNotify(my_key)\n",
    "my_line.send(t)"
   ]
  },
  {
   "cell_type": "code",
   "execution_count": 12,
   "id": "AN44d_xmnv76",
   "metadata": {
    "colab": {
     "base_uri": "https://localhost:8080/"
    },
    "executionInfo": {
     "elapsed": 4,
     "status": "ok",
     "timestamp": 1729658345452,
     "user": {
      "displayName": "김우진",
      "userId": "03388991008972650529"
     },
     "user_tz": -540
    },
    "id": "AN44d_xmnv76",
    "outputId": "0a5c0deb-db0b-4b44-8da2-67d2319ff04b"
   },
   "outputs": [
    {
     "name": "stdout",
     "output_type": "stream",
     "text": [
      "2024-10-23 기준 종목 예측 \n",
      "\n",
      "추천종목 : TIGER AI반도체핵심공정 (0.73)\n",
      "\n"
     ]
    }
   ],
   "source": [
    "print(t)"
   ]
  },
  {
   "cell_type": "code",
   "execution_count": 14,
   "id": "cdTCbQM8rQI2",
   "metadata": {
    "colab": {
     "base_uri": "https://localhost:8080/"
    },
    "executionInfo": {
     "elapsed": 8370,
     "status": "ok",
     "timestamp": 1729658432442,
     "user": {
      "displayName": "김우진",
      "userId": "03388991008972650529"
     },
     "user_tz": -540
    },
    "id": "cdTCbQM8rQI2",
    "outputId": "2f58020d-6efb-4d83-b325-0ff936fc2013"
   },
   "outputs": [
    {
     "name": "stdout",
     "output_type": "stream",
     "text": [
      "Collecting openai\n",
      "  Downloading openai-1.52.1-py3-none-any.whl.metadata (24 kB)\n",
      "Requirement already satisfied: anyio<5,>=3.5.0 in /usr/local/lib/python3.10/dist-packages (from openai) (3.7.1)\n",
      "Requirement already satisfied: distro<2,>=1.7.0 in /usr/lib/python3/dist-packages (from openai) (1.7.0)\n",
      "Collecting httpx<1,>=0.23.0 (from openai)\n",
      "  Downloading httpx-0.27.2-py3-none-any.whl.metadata (7.1 kB)\n",
      "Collecting jiter<1,>=0.4.0 (from openai)\n",
      "  Downloading jiter-0.6.1-cp310-cp310-manylinux_2_17_x86_64.manylinux2014_x86_64.whl.metadata (5.2 kB)\n",
      "Requirement already satisfied: pydantic<3,>=1.9.0 in /usr/local/lib/python3.10/dist-packages (from openai) (2.9.2)\n",
      "Requirement already satisfied: sniffio in /usr/local/lib/python3.10/dist-packages (from openai) (1.3.1)\n",
      "Requirement already satisfied: tqdm>4 in /usr/local/lib/python3.10/dist-packages (from openai) (4.66.5)\n",
      "Requirement already satisfied: typing-extensions<5,>=4.11 in /usr/local/lib/python3.10/dist-packages (from openai) (4.12.2)\n",
      "Requirement already satisfied: idna>=2.8 in /usr/local/lib/python3.10/dist-packages (from anyio<5,>=3.5.0->openai) (3.10)\n",
      "Requirement already satisfied: exceptiongroup in /usr/local/lib/python3.10/dist-packages (from anyio<5,>=3.5.0->openai) (1.2.2)\n",
      "Requirement already satisfied: certifi in /usr/local/lib/python3.10/dist-packages (from httpx<1,>=0.23.0->openai) (2024.8.30)\n",
      "Collecting httpcore==1.* (from httpx<1,>=0.23.0->openai)\n",
      "  Downloading httpcore-1.0.6-py3-none-any.whl.metadata (21 kB)\n",
      "Collecting h11<0.15,>=0.13 (from httpcore==1.*->httpx<1,>=0.23.0->openai)\n",
      "  Downloading h11-0.14.0-py3-none-any.whl.metadata (8.2 kB)\n",
      "Requirement already satisfied: annotated-types>=0.6.0 in /usr/local/lib/python3.10/dist-packages (from pydantic<3,>=1.9.0->openai) (0.7.0)\n",
      "Requirement already satisfied: pydantic-core==2.23.4 in /usr/local/lib/python3.10/dist-packages (from pydantic<3,>=1.9.0->openai) (2.23.4)\n",
      "Downloading openai-1.52.1-py3-none-any.whl (386 kB)\n",
      "\u001b[2K   \u001b[90m━━━━━━━━━━━━━━━━━━━━━━━━━━━━━━━━━━━━━━━━\u001b[0m \u001b[32m386.9/386.9 kB\u001b[0m \u001b[31m9.0 MB/s\u001b[0m eta \u001b[36m0:00:00\u001b[0m\n",
      "\u001b[?25hDownloading httpx-0.27.2-py3-none-any.whl (76 kB)\n",
      "\u001b[2K   \u001b[90m━━━━━━━━━━━━━━━━━━━━━━━━━━━━━━━━━━━━━━━━\u001b[0m \u001b[32m76.4/76.4 kB\u001b[0m \u001b[31m6.8 MB/s\u001b[0m eta \u001b[36m0:00:00\u001b[0m\n",
      "\u001b[?25hDownloading httpcore-1.0.6-py3-none-any.whl (78 kB)\n",
      "\u001b[2K   \u001b[90m━━━━━━━━━━━━━━━━━━━━━━━━━━━━━━━━━━━━━━━━\u001b[0m \u001b[32m78.0/78.0 kB\u001b[0m \u001b[31m7.0 MB/s\u001b[0m eta \u001b[36m0:00:00\u001b[0m\n",
      "\u001b[?25hDownloading jiter-0.6.1-cp310-cp310-manylinux_2_17_x86_64.manylinux2014_x86_64.whl (325 kB)\n",
      "\u001b[2K   \u001b[90m━━━━━━━━━━━━━━━━━━━━━━━━━━━━━━━━━━━━━━━━\u001b[0m \u001b[32m325.2/325.2 kB\u001b[0m \u001b[31m23.6 MB/s\u001b[0m eta \u001b[36m0:00:00\u001b[0m\n",
      "\u001b[?25hDownloading h11-0.14.0-py3-none-any.whl (58 kB)\n",
      "\u001b[2K   \u001b[90m━━━━━━━━━━━━━━━━━━━━━━━━━━━━━━━━━━━━━━━━\u001b[0m \u001b[32m58.3/58.3 kB\u001b[0m \u001b[31m4.4 MB/s\u001b[0m eta \u001b[36m0:00:00\u001b[0m\n",
      "\u001b[?25hInstalling collected packages: jiter, h11, httpcore, httpx, openai\n",
      "Successfully installed h11-0.14.0 httpcore-1.0.6 httpx-0.27.2 jiter-0.6.1 openai-1.52.1\n"
     ]
    }
   ],
   "source": [
    "!pip install openai\n"
   ]
  },
  {
   "cell_type": "code",
   "execution_count": 16,
   "id": "0dWxb1LIq9Lh",
   "metadata": {
    "executionInfo": {
     "elapsed": 8447,
     "status": "ok",
     "timestamp": 1729658673185,
     "user": {
      "displayName": "김우진",
      "userId": "03388991008972650529"
     },
     "user_tz": -540
    },
    "id": "0dWxb1LIq9Lh"
   },
   "outputs": [],
   "source": [
    "from openai import OpenAI\n",
    "\n",
    "AI=OpenAI(api_key = '오픈 API 키')\n",
    "\n",
    "box = [{'role' : 'system', 'content': '내가 글을 보여주면 그 글 내용을 블로그에 올릴 수 있게 작성해주십시오'},\n",
    "     {'role':'user','content':t}]\n",
    "\n",
    "model=AI.chat.completions.create(model='gpt-4o',messages=box)\n",
    "\n"
   ]
  },
  {
   "cell_type": "code",
   "execution_count": 17,
   "id": "fj54S7FDrLAF",
   "metadata": {
    "executionInfo": {
     "elapsed": 1058,
     "status": "ok",
     "timestamp": 1729658686834,
     "user": {
      "displayName": "김우진",
      "userId": "03388991008972650529"
     },
     "user_tz": -540
    },
    "id": "fj54S7FDrLAF"
   },
   "outputs": [],
   "source": [
    "my_line.send(model.choices[0].message.content)"
   ]
  },
  {
   "cell_type": "code",
   "execution_count": 18,
   "id": "c-EcKbXMsQek",
   "metadata": {
    "colab": {
     "base_uri": "https://localhost:8080/"
    },
    "executionInfo": {
     "elapsed": 428,
     "status": "ok",
     "timestamp": 1729658812583,
     "user": {
      "displayName": "김우진",
      "userId": "03388991008972650529"
     },
     "user_tz": -540
    },
    "id": "c-EcKbXMsQek",
    "outputId": "48765b40-3dec-4e29-ae27-2642f0c5f961"
   },
   "outputs": [
    {
     "name": "stdout",
     "output_type": "stream",
     "text": [
      "### 2024년 10월 23일 주식 시장 종목 예측\n",
      "\n",
      "주식 시장은 항상 변화무쌍하며, 투자자들은 최신 정보를 기반으로 신중한 결정을 내려야 합니다. 2024년 10월 23일 기준으로 주목할 만한 추천 종목으로 **TIGER AI반도체핵심공정**을 소개합니다. 이 종목은 최근 여러 요인에서 긍정적인 평가를 받고 있으며, 투자자들의 관심이 집중되고 있는 상황입니다.\n",
      "\n",
      "#### 추천 종목: TIGER AI반도체핵심공정\n",
      "- **추천 점수**: 0.73\n",
      "\n",
      "#### 투자 포인트:\n",
      "1. **산업 성장 가능성**: 반도체 산업은 AI 및 첨단 기술의 발전과 함께 꾸준한 성장을 이어가고 있습니다. 특히, 핵심 공정에 대한 수요가 증가하면서 시장에서의 중요성도 부각되고 있습니다.\n",
      "\n",
      "2. **기술 혁신**: 이 종목은 AI와 반도체 기술의 융합을 통해 혁신적인 솔루션을 제공, 업계에서 차별화된 경쟁력을 갖추고 있습니다.\n",
      "\n",
      "3. **글로벌 시장 확장**: 글로벌 시장에 대한 적극적인 확장 전략으로, 다양한 지역에서의 매출 증가가 기대됩니다. 반도체 핵심 공정의 수요는 전 세계적으로 확대되고 있습니다.\n",
      "\n",
      "4. **재무 안정성**: 최근 재무보고서에 따르면, 안정적인 수익 구조와 건전한 재무 상태를 보여주고 있어 장기적인 관점에서도 긍정적입니다.\n",
      "\n",
      "#### 결론:\n",
      "TIGER AI반도체핵심공정은 기술 혁신과 산업 성장 가능성을 고려할 때 미래가 유망한 투자 대상으로 보입니다. 물론, 개별적인 투자 결정을 내릴 때는 철저한 시장 조사와 자신의 투자 목표 및 리스크 관리 전략을 수립하는 것이 중요합니다. 다양한 변수들을 고려하여 현명한 투자 결정을 내리시기 바랍니다.\n",
      "\n",
      "**주의사항**: 주식 투자는 원금 손실의 위험이 있으므로, 충분한 정보를 통한 신중한 접근이 필요합니다. 개인의 투자 성향과 목적에 맞는 전략적 판단이 강조됩니다.\n"
     ]
    }
   ],
   "source": [
    "t =model.choices[0].message.content\n",
    "print(t)"
   ]
  },
  {
   "cell_type": "code",
   "execution_count": null,
   "id": "vnf4ii7tsvTg",
   "metadata": {
    "id": "vnf4ii7tsvTg"
   },
   "outputs": [],
   "source": []
  }
 ],
 "metadata": {
  "accelerator": "GPU",
  "colab": {
   "gpuType": "T4",
   "provenance": []
  },
  "kernelspec": {
   "display_name": "Python 3 (ipykernel)",
   "language": "python",
   "name": "python3"
  },
  "language_info": {
   "codemirror_mode": {
    "name": "ipython",
    "version": 3
   },
   "file_extension": ".py",
   "mimetype": "text/x-python",
   "name": "python",
   "nbconvert_exporter": "python",
   "pygments_lexer": "ipython3",
   "version": "3.11.7"
  }
 },
 "nbformat": 4,
 "nbformat_minor": 5
}
